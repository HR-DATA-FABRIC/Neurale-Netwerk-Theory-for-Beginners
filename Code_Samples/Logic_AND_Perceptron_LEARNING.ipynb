{
 "cells": [
  {
   "cell_type": "code",
   "execution_count": null,
   "id": "af27bcc1",
   "metadata": {},
   "outputs": [],
   "source": [
    "%matplotlib inline"
   ]
  },
  {
   "cell_type": "code",
   "execution_count": 1,
   "id": "02805087",
   "metadata": {
    "lines_to_next_cell": 0
   },
   "outputs": [],
   "source": [
    "import numpy as np\n",
    "import matplotlib.pyplot as plt # to plot error during training\n",
    "\n",
    "class Perceptron(object):\n",
    "\n",
    "    def __init__(self, no_of_inputs, no_of_epochs=10, learning_rate=0.01):\n",
    "        self.no_of_epochs = no_of_epochs\n",
    "        self.learning_rate = learning_rate\n",
    "        self.weights = np.random.normal(0, 0.5, no_of_inputs + 1)\n",
    "        self.output_bias = self.weights[0]\n",
    "\n",
    "    def predict(self, inputs):\n",
    "        summation = np.dot(inputs, self.weights[1:]) + self.output_bias\n",
    "        if summation > 0:\n",
    "          activation = 1\n",
    "        else:\n",
    "          activation = 0\n",
    "        return activation\n",
    "\n",
    "    def train(self, training_inputs, labels):\n",
    "        interation_number = 0\n",
    "        epoch_number = 0\n",
    "        for _ in range(self.no_of_epochs):\n",
    "            interation_number += 1\n",
    "            for inputs, label in zip(training_inputs, labels):\n",
    "                prediction = self.predict(inputs)\n",
    "                self.weights[1:] += self.learning_rate * (label - prediction) * inputs\n",
    "                self.output_bias += self.learning_rate * (label - prediction)\n",
    "                epoch_number += 1\n",
    "                print(interation_number,epoch_number,label, prediction)"
   ]
  },
  {
   "cell_type": "markdown",
   "id": "75beb9b8",
   "metadata": {
    "cell_marker": "############################",
    "lines_to_next_cell": 0
   },
   "source": [
    "###########################\n",
    "###########################\n",
    "###########################\n",
    "###########################\n",
    "###########################"
   ]
  },
  {
   "cell_type": "code",
   "execution_count": 2,
   "id": "e9421070",
   "metadata": {},
   "outputs": [
    {
     "name": "stdout",
     "output_type": "stream",
     "text": [
      "1 1 1 0\n",
      "1 2 0 1\n",
      "1 3 0 1\n",
      "1 4 0 1\n",
      "2 5 1 0\n",
      "2 6 0 1\n",
      "2 7 0 0\n",
      "2 8 0 1\n",
      "3 9 1 0\n",
      "3 10 0 1\n",
      "3 11 0 0\n",
      "3 12 0 0\n",
      "4 13 1 0\n",
      "4 14 0 1\n",
      "4 15 0 0\n",
      "4 16 0 0\n",
      "5 17 1 0\n",
      "5 18 0 1\n",
      "5 19 0 1\n",
      "5 20 0 0\n",
      "6 21 1 0\n",
      "6 22 0 0\n",
      "6 23 0 1\n",
      "6 24 0 0\n",
      "7 25 1 0\n",
      "7 26 0 1\n",
      "7 27 0 0\n",
      "7 28 0 0\n",
      "8 29 1 0\n",
      "8 30 0 1\n",
      "8 31 0 1\n",
      "8 32 0 0\n",
      "9 33 1 0\n",
      "9 34 0 0\n",
      "9 35 0 1\n",
      "9 36 0 0\n",
      "10 37 1 0\n",
      "10 38 0 1\n",
      "10 39 0 0\n",
      "10 40 0 0\n",
      "-0.6044064266701834 1.4778681878384206\n"
     ]
    },
    {
     "data": {
      "text/plain": [
       "[]"
      ]
     },
     "execution_count": 2,
     "metadata": {},
     "output_type": "execute_result"
    },
    {
     "data": {
      "text/plain": [
       "<Figure size 20000x100 with 0 Axes>"
      ]
     },
     "metadata": {},
     "output_type": "display_data"
    },
    {
     "data": {
      "image/png": "[encoded data removed]",
      "text/plain": [
       "<Figure size 640x480 with 1 Axes>"
      ]
     },
     "metadata": {},
     "output_type": "display_data"
    }
   ],
   "source": [
    "training_inputs = []\n",
    "training_inputs.append(np.array([1, 1]))\n",
    "training_inputs.append(np.array([1, 0]))\n",
    "training_inputs.append(np.array([0, 1]))\n",
    "training_inputs.append(np.array([0, 0]))\n",
    "\n",
    "teacher = np.array([1, 0, 0, 0])\n",
    "\n",
    "\n",
    "NN=perceptron = Perceptron(2,10,0.1)\n",
    "NN.train(training_inputs, teacher)\n",
    "m = -(NN.weights[1] / NN.weights[2])\n",
    "c = -(NN.output_bias / NN.weights[2])\n",
    "\n",
    "plt.figure(figsize=(200,1))\n",
    "fig, ax = plt.subplots()\n",
    "xmin, xmax = -0.2, 1.4\n",
    "X = np.arange(xmin, xmax, 0.1)\n",
    "ax.scatter(0, 0, color=\"r\")\n",
    "ax.scatter(0, 1, color=\"r\")\n",
    "ax.scatter(1, 0, color=\"r\")\n",
    "ax.scatter(1, 1, color=\"g\")\n",
    "ax.set_xlim([xmin, xmax])\n",
    "ax.set_ylim([-0.1, 1.1])\n",
    "\n",
    "\n",
    "print(m, c)\n",
    "ax.plot(X, m * X + c )\n",
    "plt.plot()"
   ]
  },
  {
   "cell_type": "code",
   "execution_count": null,
   "id": "9bf640ea",
   "metadata": {},
   "outputs": [],
   "source": []
  }
 ],
 "metadata": {
  "jupytext": {
   "cell_metadata_filter": "-all",
   "notebook_metadata_filter": "-all"
  },
  "kernelspec": {
   "display_name": "Python 3 (ipykernel)",
   "language": "python",
   "name": "python3"
  },
  "language_info": {
   "codemirror_mode": {
    "name": "ipython",
    "version": 3
   },
   "file_extension": ".py",
   "mimetype": "text/x-python",
   "name": "python",
   "nbconvert_exporter": "python",
   "pygments_lexer": "ipython3",
   "version": "3.9.12"
  }
 },
 "nbformat": 4,
 "nbformat_minor": 5
}
