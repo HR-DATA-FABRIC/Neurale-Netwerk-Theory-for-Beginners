{
 "cells": [
  {
   "cell_type": "code",
   "execution_count": null,
   "id": "6adb7ba1",
   "metadata": {},
   "outputs": [],
   "source": [
    "%matplotlib inline"
   ]
  },
  {
   "cell_type": "markdown",
   "id": "2e8f898b",
   "metadata": {
    "cell_marker": "\"\"\""
   },
   "source": [
    "This code is licensed under a\n",
    "Creative Commons Attribution-Share-Alike license.\n",
    "You can change it, transmit it, show it to other people.\n",
    "Just always give credit to RFvdW.\n",
    "\n",
    "It is an adapted version\n",
    "of code written by Thomas Countz (2018)\n",
    "under a MIT license.\n",
    "\n",
    "It is part of an introductory course in AI\n",
    "Lesson01 The PERCEPTRON\n",
    "\n",
    "If you searched for Neural Networks, Deep Learning, Machine Learning,\n",
    "or anything that has to do with Artificial Intelligence,\n",
    "you’ve probably heard about the Perceptron.\n",
    "The1958’s famous algorithm created by Frank Rosenblatt\n",
    "is the landing mark in Neural Networks and consequently\n",
    "Deep Learning, and understanding the way it works\n",
    "(i.e., the math behind it) is essential to go a step further\n",
    "to more complex IA models, specifically in Neural Networks.\n",
    "\n",
    "\n",
    "http://creativecommons.org/licenses/by-nc-sa/3.0/"
   ]
  },
  {
   "cell_type": "code",
   "execution_count": 1,
   "id": "9971c0c2",
   "metadata": {},
   "outputs": [],
   "source": [
    "\n",
    "import numpy as np\n",
    "import matplotlib.pyplot as plt\n",
    "\n",
    "class Perceptron(object):\n",
    "\n",
    "    def __init__(self, no_of_inputs, no_of_training_epochs=20, learning_rate=0.01):\n",
    "        self.no_of_training_epochs = no_of_training_epochs\n",
    "        self.learning_rate = learning_rate\n",
    "        self.weights = np.random.normal(0, 10, no_of_inputs + 1)\n",
    "        self.bias = self.weights[0]\n",
    "        self.epoch_list=[]\n",
    "        self.error_history=[]\n",
    "\n",
    "\n",
    "    def step_function(self, inputs):\n",
    "        netto_summation = np.dot(inputs, self.weights[1:]) + self.bias\n",
    "        if netto_summation > 0:\n",
    "          activation = 1\n",
    "        else:\n",
    "          activation = 0\n",
    "        return activation\n",
    "\n",
    "    def train(self, training_inputs, teacher_labels):\n",
    "        epoch =0;\n",
    "        i =0;\n",
    "        for _ in range(self.no_of_training_epochs):\n",
    "          epoch+=1\n",
    "          for inputs, teacher in zip(training_inputs, teacher_labels):\n",
    "              activated_perceptron_output = self.step_function(inputs)\n",
    "              error = (teacher - activated_perceptron_output)\n",
    "              self.weights[1:] += self.learning_rate * (error) * inputs\n",
    "              self.bias += self.learning_rate  * error\n",
    "              #print(teacher, activated_perceptron_output)\n",
    "              i+=1\n",
    "              self.epoch_list.append(epoch)\n",
    "              self.error_history.append(np.sum(np.abs(error)))"
   ]
  },
  {
   "cell_type": "markdown",
   "id": "e8000ade",
   "metadata": {
    "cell_marker": "#########################################",
    "lines_to_next_cell": 0
   },
   "source": [
    "########################################\n",
    "########################################\n",
    "########################################\n",
    "########################################"
   ]
  },
  {
   "cell_type": "code",
   "execution_count": 2,
   "id": "e5e8201a",
   "metadata": {},
   "outputs": [
    {
     "data": {
      "image/png": "[encoded data removed]",
      "text/plain": [
       "<Figure size 1500x500 with 1 Axes>"
      ]
     },
     "metadata": {},
     "output_type": "display_data"
    }
   ],
   "source": [
    "training_inputs = []\n",
    "training_inputs.append(np.array([1, 1]))\n",
    "training_inputs.append(np.array([1, 0]))\n",
    "training_inputs.append(np.array([0, 1]))\n",
    "training_inputs.append(np.array([0, 0]))\n",
    "\n",
    "teacher = np.array([1, 0, 0, 0])\n",
    "\n",
    "\n",
    "NN=perceptron = Perceptron(2,15,0.1)\n",
    "NN.train(training_inputs, teacher)\n",
    "\n",
    "\n",
    "plt.figure(figsize=(15,5))\n",
    "plt.plot(NN.epoch_list, 1/np.cumsum(NN.error_history))\n",
    "plt.xlabel('Epoch')\n",
    "plt.ylabel('Error')\n",
    "plt.show()"
   ]
  },
  {
   "cell_type": "code",
   "execution_count": null,
   "id": "7cae258c",
   "metadata": {},
   "outputs": [],
   "source": []
  }
 ],
 "metadata": {
  "jupytext": {
   "cell_metadata_filter": "-all",
   "notebook_metadata_filter": "-all"
  },
  "kernelspec": {
   "display_name": "Python 3 (ipykernel)",
   "language": "python",
   "name": "python3"
  },
  "language_info": {
   "codemirror_mode": {
    "name": "ipython",
    "version": 3
   },
   "file_extension": ".py",
   "mimetype": "text/x-python",
   "name": "python",
   "nbconvert_exporter": "python",
   "pygments_lexer": "ipython3",
   "version": "3.9.12"
  }
 },
 "nbformat": 4,
 "nbformat_minor": 5
}
